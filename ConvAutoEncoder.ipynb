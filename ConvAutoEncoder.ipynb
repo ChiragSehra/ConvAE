{
 "cells": [
  {
   "cell_type": "code",
   "execution_count": 65,
   "metadata": {
    "ExecuteTime": {
     "end_time": "2018-06-26T12:31:35.330089Z",
     "start_time": "2018-06-26T12:31:35.319672Z"
    }
   },
   "outputs": [],
   "source": [
    "import numpy as np\n",
    "import pandas as pd\n",
    "import matplotlib.pyplot as plt\n",
    "%matplotlib inline\n",
    "\n",
    "import keras\n",
    "\n",
    "from keras.layers import Conv2D, Flatten, Dense, Activation, MaxPool2D, Dropout\n",
    "from keras.models import Model\n",
    "from keras.layers import UpSampling2D, Reshape, ZeroPadding2D, Input\n",
    "from keras.utils import np_utils"
   ]
  },
  {
   "cell_type": "code",
   "execution_count": 66,
   "metadata": {
    "ExecuteTime": {
     "end_time": "2018-06-26T12:31:38.704092Z",
     "start_time": "2018-06-26T12:31:35.871946Z"
    }
   },
   "outputs": [
    {
     "name": "stdout",
     "output_type": "stream",
     "text": [
      "(42000, 785)\n"
     ]
    }
   ],
   "source": [
    "# Loading the data\n",
    "\n",
    "ds = pd.read_csv('../data/mnist_train.csv')\n",
    "print(ds.shape)\n",
    "data = ds.values[:10000]"
   ]
  },
  {
   "cell_type": "code",
   "execution_count": 67,
   "metadata": {
    "ExecuteTime": {
     "end_time": "2018-06-26T12:31:38.811723Z",
     "start_time": "2018-06-26T12:31:38.774549Z"
    }
   },
   "outputs": [
    {
     "name": "stdout",
     "output_type": "stream",
     "text": [
      "(10000, 784) (10000, 10)\n"
     ]
    }
   ],
   "source": [
    "X = data[:,1:]/255.0\n",
    "y = np_utils.to_categorical(data[:,0])\n",
    "\n",
    "print(X.shape, y.shape)"
   ]
  },
  {
   "cell_type": "code",
   "execution_count": 68,
   "metadata": {
    "ExecuteTime": {
     "end_time": "2018-06-26T12:31:38.868804Z",
     "start_time": "2018-06-26T12:31:38.860358Z"
    }
   },
   "outputs": [
    {
     "name": "stdout",
     "output_type": "stream",
     "text": [
      "(8000, 28, 28, 1) (2000, 28, 28, 1)\n"
     ]
    }
   ],
   "source": [
    "split = int(0.8*X.shape[0])\n",
    "\n",
    "X_train = X[:split].reshape((-1,28,28,1))\n",
    "X_test = X[split:].reshape((-1,28,28,1))\n",
    "\n",
    "print(X_train.shape, X_test.shape)"
   ]
  },
  {
   "cell_type": "code",
   "execution_count": 69,
   "metadata": {
    "ExecuteTime": {
     "end_time": "2018-06-26T12:31:39.014639Z",
     "start_time": "2018-06-26T12:31:38.920870Z"
    }
   },
   "outputs": [
    {
     "data": {
      "image/png": "[encoded data removed]",
      "text/plain": [
       "<matplotlib.figure.Figure at 0x250c811e9b0>"
      ]
     },
     "metadata": {},
     "output_type": "display_data"
    }
   ],
   "source": [
    "n_img = np.random.randint(low = 0, high = 100)\n",
    "\n",
    "plt.imshow(X_train[n_img].reshape((28,28)), cmap='gray')\n",
    "plt.show()"
   ]
  },
  {
   "cell_type": "code",
   "execution_count": 70,
   "metadata": {
    "ExecuteTime": {
     "end_time": "2018-06-26T12:31:39.972679Z",
     "start_time": "2018-06-26T12:31:39.745032Z"
    }
   },
   "outputs": [
    {
     "name": "stdout",
     "output_type": "stream",
     "text": [
      "_________________________________________________________________\n",
      "Layer (type)                 Output Shape              Param #   \n",
      "=================================================================\n",
      "input_8 (InputLayer)         (None, 28, 28, 1)         0         \n",
      "_________________________________________________________________\n",
      "conv2d_15 (Conv2D)           (None, 24, 24, 32)        832       \n",
      "_________________________________________________________________\n",
      "activation_17 (Activation)   (None, 24, 24, 32)        0         \n",
      "_________________________________________________________________\n",
      "max_pooling2d_9 (MaxPooling2 (None, 12, 12, 32)        0         \n",
      "_________________________________________________________________\n",
      "conv2d_16 (Conv2D)           (None, 10, 10, 8)         2312      \n",
      "_________________________________________________________________\n",
      "activation_18 (Activation)   (None, 10, 10, 8)         0         \n",
      "_________________________________________________________________\n",
      "max_pooling2d_10 (MaxPooling (None, 5, 5, 8)           0         \n",
      "_________________________________________________________________\n",
      "flatten_5 (Flatten)          (None, 200)               0         \n",
      "_________________________________________________________________\n",
      "dense_9 (Dense)              (None, 32)                6432      \n",
      "_________________________________________________________________\n",
      "activation_19 (Activation)   (None, 32)                0         \n",
      "_________________________________________________________________\n",
      "dense_10 (Dense)             (None, 200)               6600      \n",
      "_________________________________________________________________\n",
      "activation_20 (Activation)   (None, 200)               0         \n",
      "_________________________________________________________________\n",
      "reshape_5 (Reshape)          (None, 5, 5, 8)           0         \n",
      "_________________________________________________________________\n",
      "up_sampling2d_8 (UpSampling2 (None, 10, 10, 8)         0         \n",
      "_________________________________________________________________\n",
      "zero_padding2d_8 (ZeroPaddin (None, 12, 12, 8)         0         \n",
      "_________________________________________________________________\n",
      "conv2d_17 (Conv2D)           (None, 12, 12, 32)        2336      \n",
      "_________________________________________________________________\n",
      "up_sampling2d_9 (UpSampling2 (None, 24, 24, 32)        0         \n",
      "_________________________________________________________________\n",
      "zero_padding2d_9 (ZeroPaddin (None, 28, 28, 32)        0         \n",
      "_________________________________________________________________\n",
      "conv2d_18 (Conv2D)           (None, 28, 28, 1)         801       \n",
      "=================================================================\n",
      "Total params: 19,313\n",
      "Trainable params: 19,313\n",
      "Non-trainable params: 0\n",
      "_________________________________________________________________\n"
     ]
    }
   ],
   "source": [
    "inp = Input(shape=(28,28,1))\n",
    "\n",
    "c1 = Conv2D(32,(5,5))\n",
    "a1 = Activation('relu')\n",
    "\n",
    "m1 = MaxPool2D(pool_size=(2,2))\n",
    "\n",
    "c2 = Conv2D(8, (3,3))\n",
    "a2 = Activation('relu')\n",
    "\n",
    "m2 = MaxPool2D(pool_size=(2,2))\n",
    "f1 = Flatten()\n",
    "\n",
    "emb_shape = 32\n",
    "\n",
    "e1 = Dense(emb_shape)\n",
    "emb = Activation('tanh')\n",
    "\n",
    "fc1 = Dense(200)\n",
    "a3 = Activation('sigmoid')\n",
    "\n",
    "re1 = Reshape((5, 5, 8))\n",
    "\n",
    "up1 = UpSampling2D(size=(2, 2))\n",
    "\n",
    "zp1 = ZeroPadding2D(padding=(1, 1))\n",
    "dc1 = Conv2D(32, (3, 3), padding='same', activation='relu')\n",
    "\n",
    "up2 = UpSampling2D(size=(2, 2))\n",
    "\n",
    "zp2 = ZeroPadding2D(padding=(2, 2))\n",
    "dc2 = Conv2D(1, (5, 5), padding='same', activation='relu')\n",
    "\n",
    "\n",
    "out_enc = emb(e1(f1(m2(a2(c2(m1(a1(c1(inp)))))))))\n",
    "out_model = dc2(zp2(up2(dc1(zp1(up1(re1(a3(fc1(out_enc)))))))))\n",
    "\n",
    "\n",
    "model = Model(inputs=[inp], outputs=[out_model])\n",
    "model.summary()\n",
    "\n",
    "model.compile(loss='mse', optimizer='adam', metrics=['accuracy'])\n",
    "\n",
    "encoder = Model(inputs=[inp], outputs=[out_enc])"
   ]
  },
  {
   "cell_type": "code",
   "execution_count": 71,
   "metadata": {
    "ExecuteTime": {
     "end_time": "2018-06-26T12:31:40.453721Z",
     "start_time": "2018-06-26T12:31:40.448254Z"
    }
   },
   "outputs": [
    {
     "name": "stdout",
     "output_type": "stream",
     "text": [
      "_________________________________________________________________\n",
      "Layer (type)                 Output Shape              Param #   \n",
      "=================================================================\n",
      "input_8 (InputLayer)         (None, 28, 28, 1)         0         \n",
      "_________________________________________________________________\n",
      "conv2d_15 (Conv2D)           (None, 24, 24, 32)        832       \n",
      "_________________________________________________________________\n",
      "activation_17 (Activation)   (None, 24, 24, 32)        0         \n",
      "_________________________________________________________________\n",
      "max_pooling2d_9 (MaxPooling2 (None, 12, 12, 32)        0         \n",
      "_________________________________________________________________\n",
      "conv2d_16 (Conv2D)           (None, 10, 10, 8)         2312      \n",
      "_________________________________________________________________\n",
      "activation_18 (Activation)   (None, 10, 10, 8)         0         \n",
      "_________________________________________________________________\n",
      "max_pooling2d_10 (MaxPooling (None, 5, 5, 8)           0         \n",
      "_________________________________________________________________\n",
      "flatten_5 (Flatten)          (None, 200)               0         \n",
      "_________________________________________________________________\n",
      "dense_9 (Dense)              (None, 32)                6432      \n",
      "_________________________________________________________________\n",
      "activation_19 (Activation)   (None, 32)                0         \n",
      "=================================================================\n",
      "Total params: 9,576\n",
      "Trainable params: 9,576\n",
      "Non-trainable params: 0\n",
      "_________________________________________________________________\n"
     ]
    }
   ],
   "source": [
    "encoder.summary()"
   ]
  },
  {
   "cell_type": "code",
   "execution_count": 72,
   "metadata": {
    "ExecuteTime": {
     "end_time": "2018-06-26T12:31:41.166221Z",
     "start_time": "2018-06-26T12:31:41.112170Z"
    }
   },
   "outputs": [
    {
     "name": "stdout",
     "output_type": "stream",
     "text": [
      "_________________________________________________________________\n",
      "Layer (type)                 Output Shape              Param #   \n",
      "=================================================================\n",
      "input_9 (InputLayer)         (None, 32)                0         \n",
      "_________________________________________________________________\n",
      "dense_10 (Dense)             (None, 200)               6600      \n",
      "_________________________________________________________________\n",
      "activation_20 (Activation)   (None, 200)               0         \n",
      "_________________________________________________________________\n",
      "reshape_5 (Reshape)          (None, 5, 5, 8)           0         \n",
      "_________________________________________________________________\n",
      "up_sampling2d_8 (UpSampling2 (None, 10, 10, 8)         0         \n",
      "_________________________________________________________________\n",
      "zero_padding2d_8 (ZeroPaddin (None, 12, 12, 8)         0         \n",
      "_________________________________________________________________\n",
      "conv2d_17 (Conv2D)           (None, 12, 12, 32)        2336      \n",
      "_________________________________________________________________\n",
      "up_sampling2d_9 (UpSampling2 (None, 24, 24, 32)        0         \n",
      "_________________________________________________________________\n",
      "zero_padding2d_9 (ZeroPaddin (None, 28, 28, 32)        0         \n",
      "_________________________________________________________________\n",
      "conv2d_18 (Conv2D)           (None, 28, 28, 1)         801       \n",
      "=================================================================\n",
      "Total params: 9,737\n",
      "Trainable params: 9,737\n",
      "Non-trainable params: 0\n",
      "_________________________________________________________________\n"
     ]
    }
   ],
   "source": [
    "dec_inp = Input(shape=(emb_shape,))\n",
    "dec_out = dc2(zp2(up2(dc1(zp1(up1(re1(a3(fc1(dec_inp)))))))))\n",
    "decoder = Model(inputs=[dec_inp], outputs=[dec_out])\n",
    "decoder.summary()\n",
    "\n"
   ]
  },
  {
   "cell_type": "code",
   "execution_count": 73,
   "metadata": {
    "ExecuteTime": {
     "end_time": "2018-06-26T12:31:56.874648Z",
     "start_time": "2018-06-26T12:31:41.824060Z"
    }
   },
   "outputs": [
    {
     "name": "stdout",
     "output_type": "stream",
     "text": [
      "Train on 8000 samples, validate on 2000 samples\n",
      "Epoch 1/10\n",
      "8000/8000 [==============================] - 2s 294us/step - loss: 0.0567 - acc: 0.8027 - val_loss: 0.0402 - val_acc: 0.7937\n",
      "Epoch 2/10\n",
      "8000/8000 [==============================] - 1s 172us/step - loss: 0.0327 - acc: 0.8044 - val_loss: 0.0290 - val_acc: 0.8066\n",
      "Epoch 3/10\n",
      "8000/8000 [==============================] - 1s 174us/step - loss: 0.0258 - acc: 0.8076 - val_loss: 0.0237 - val_acc: 0.8068\n",
      "Epoch 4/10\n",
      "8000/8000 [==============================] - 1s 172us/step - loss: 0.0220 - acc: 0.8091 - val_loss: 0.0208 - val_acc: 0.8077\n",
      "Epoch 5/10\n",
      "8000/8000 [==============================] - 1s 170us/step - loss: 0.0196 - acc: 0.8100 - val_loss: 0.0191 - val_acc: 0.8090\n",
      "Epoch 6/10\n",
      "8000/8000 [==============================] - 1s 170us/step - loss: 0.0178 - acc: 0.8107 - val_loss: 0.0173 - val_acc: 0.8087\n",
      "Epoch 7/10\n",
      "8000/8000 [==============================] - 1s 168us/step - loss: 0.0166 - acc: 0.8111 - val_loss: 0.0163 - val_acc: 0.8087\n",
      "Epoch 8/10\n",
      "8000/8000 [==============================] - 1s 165us/step - loss: 0.0156 - acc: 0.8114 - val_loss: 0.0154 - val_acc: 0.8096\n",
      "Epoch 9/10\n",
      "8000/8000 [==============================] - 1s 168us/step - loss: 0.0148 - acc: 0.8116 - val_loss: 0.0147 - val_acc: 0.8093\n",
      "Epoch 10/10\n",
      "8000/8000 [==============================] - 1s 165us/step - loss: 0.0141 - acc: 0.8119 - val_loss: 0.0142 - val_acc: 0.8096\n"
     ]
    },
    {
     "data": {
      "text/plain": [
       "<keras.callbacks.History at 0x250c7e09f28>"
      ]
     },
     "execution_count": 73,
     "metadata": {},
     "output_type": "execute_result"
    }
   ],
   "source": [
    "model.fit(X_train, X_train,\n",
    "         epochs=10,\n",
    "         shuffle=True,\n",
    "         batch_size=100,\n",
    "         validation_data=(X_test, X_test))"
   ]
  },
  {
   "cell_type": "code",
   "execution_count": 74,
   "metadata": {
    "ExecuteTime": {
     "end_time": "2018-06-26T12:31:57.002633Z",
     "start_time": "2018-06-26T12:31:56.921274Z"
    }
   },
   "outputs": [
    {
     "name": "stdout",
     "output_type": "stream",
     "text": [
      "(100, 32)\n"
     ]
    }
   ],
   "source": [
    "enc_out = encoder.predict(X_train[:100])\n",
    "print (enc_out.shape)"
   ]
  },
  {
   "cell_type": "code",
   "execution_count": 75,
   "metadata": {
    "ExecuteTime": {
     "end_time": "2018-06-26T12:31:57.054226Z",
     "start_time": "2018-06-26T12:31:57.050232Z"
    }
   },
   "outputs": [
    {
     "name": "stdout",
     "output_type": "stream",
     "text": [
      "(20, 32)\n"
     ]
    }
   ],
   "source": [
    "rnd_vec = np.random.uniform(low=-1, high=1, size=(20, emb_shape))\n",
    "print (rnd_vec.shape)"
   ]
  },
  {
   "cell_type": "code",
   "execution_count": 76,
   "metadata": {
    "ExecuteTime": {
     "end_time": "2018-06-26T12:31:57.185145Z",
     "start_time": "2018-06-26T12:31:57.104323Z"
    }
   },
   "outputs": [
    {
     "name": "stdout",
     "output_type": "stream",
     "text": [
      "(20, 28, 28, 1)\n"
     ]
    }
   ],
   "source": [
    "rec = decoder.predict(rnd_vec)\n",
    "print(rec.shape)"
   ]
  },
  {
   "cell_type": "code",
   "execution_count": 77,
   "metadata": {
    "ExecuteTime": {
     "end_time": "2018-06-26T12:31:57.352794Z",
     "start_time": "2018-06-26T12:31:57.241724Z"
    }
   },
   "outputs": [
    {
     "data": {
      "image/png": "[encoded data removed]",
      "text/plain": [
       "<matplotlib.figure.Figure at 0x250cae693c8>"
      ]
     },
     "metadata": {},
     "output_type": "display_data"
    }
   ],
   "source": [
    "nx = 12\n",
    "\n",
    "plt.figure(0)\n",
    "#plt.imshow(X_train[nx].reshape((28, 28)), cmap='gray')\n",
    "\n",
    "#plt.figure(1)\n",
    "plt.imshow(rec[nx].reshape((28, 28)), cmap='gray')\n",
    "\n",
    "plt.show()"
   ]
  },
  {
   "cell_type": "code",
   "execution_count": null,
   "metadata": {},
   "outputs": [],
   "source": []
  },
  {
   "cell_type": "code",
   "execution_count": null,
   "metadata": {},
   "outputs": [],
   "source": []
  }
 ],
 "metadata": {
  "kernelspec": {
   "display_name": "Python 3",
   "language": "python",
   "name": "python3"
  },
  "language_info": {
   "codemirror_mode": {
    "name": "ipython",
    "version": 3
   },
   "file_extension": ".py",
   "mimetype": "text/x-python",
   "name": "python",
   "nbconvert_exporter": "python",
   "pygments_lexer": "ipython3",
   "version": "3.5.4"
  },
  "toc": {
   "nav_menu": {},
   "number_sections": true,
   "sideBar": true,
   "skip_h1_title": false,
   "title_cell": "Table of Contents",
   "title_sidebar": "Contents",
   "toc_cell": false,
   "toc_position": {},
   "toc_section_display": true,
   "toc_window_display": false
  },
  "varInspector": {
   "cols": {
    "lenName": 16,
    "lenType": 16,
    "lenVar": 40
   },
   "kernels_config": {
    "python": {
     "delete_cmd_postfix": "",
     "delete_cmd_prefix": "del ",
     "library": "var_list.py",
     "varRefreshCmd": "print(var_dic_list())"
    },
    "r": {
     "delete_cmd_postfix": ") ",
     "delete_cmd_prefix": "rm(",
     "library": "var_list.r",
     "varRefreshCmd": "cat(var_dic_list()) "
    }
   },
   "types_to_exclude": [
    "module",
    "function",
    "builtin_function_or_method",
    "instance",
    "_Feature"
   ],
   "window_display": false
  }
 },
 "nbformat": 4,
 "nbformat_minor": 2
}
